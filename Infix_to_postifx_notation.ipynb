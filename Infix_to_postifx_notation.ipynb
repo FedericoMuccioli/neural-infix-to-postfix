{
  "cells": [
    {
      "cell_type": "markdown",
      "metadata": {
        "id": "uteQEU2TT8LK"
      },
      "source": [
        "# Project Description:\n",
        "\n",
        "The purpose of this project is to implement a neural network that performs the translation of mathematical formulae from traditional **infix notation**—where the operator appears between two operands—to **postfix** (also known as Reverse Polish Notation), where the operator follows the operands.\n",
        "\n",
        "Infix notation is the most commonly used in human-readable mathematics (e.g., a + b), but it is inherently ambiguous without additional syntactic aids such as parentheses or operator precedence rules. This ambiguity arises because different parse trees can correspond to the same expression depending on how operations are grouped.\n",
        "\n",
        "In contrast, postfix notation eliminates the need for parentheses entirely. The order of operations is explicitly encoded by the position of the operators relative to the operands, making it more suitable for stack-based evaluation and easier to parse programmatically.\n",
        "\n",
        "**Example:**\n",
        "\n",
        "Consider the ambiguous infix expression:\n",
        "a + b * c\n",
        "\n",
        "This expression can be parsed in at least two different ways:\n",
        "\n",
        "Interpretation (Infix):\t(a + b) * c\t   \n",
        "Equivalent Postfix: ab+c*\n",
        "\n",
        "Interpretation (Infix):\ta + (b * c)\t          \n",
        "Equivalent Postfix: abc*+\n",
        "\n",
        "\n",
        "This project aims to learn such disambiguations and generate the correct postfix form from a given infix expression using a data-driven approach based on neural networks. To simplify the task and control the complexity of expressions, we restrict our dataset to formulae with a maximum syntactic depth of 3. This means that the abstract syntax trees representing these expressions will have at most three levels, ensuring that the neural network operates on a bounded and manageable set of possible structures."
      ]
    },
    {
      "cell_type": "code",
      "execution_count": 1,
      "metadata": {
        "id": "NblYjYfEqS9G"
      },
      "outputs": [],
      "source": [
        "import numpy as np\n",
        "import random\n",
        "import tensorflow as tf\n",
        "from tensorflow.keras import layers, models\n",
        "import matplotlib.pyplot as plt\n"
      ]
    },
    {
      "cell_type": "markdown",
      "metadata": {
        "id": "sG9NlUIVUAyg"
      },
      "source": [
        "We build formulae using 5 identifiers a,b,c,d,e and 4 binary operators +,-,*,/.\n",
        "For simplicity we do not take advantage of precedence or associativity rules for infix notation, and suppose that all binary operations as always fully parenthesizes: (e1 op e2)."
      ]
    },
    {
      "cell_type": "code",
      "execution_count": 2,
      "metadata": {
        "id": "GNL-JbRgVZ8s"
      },
      "outputs": [],
      "source": [
        "# -------------------- Constants --------------------\n",
        "OPERATORS = ['+', '-', '*', '/']\n",
        "IDENTIFIERS = list('abcde')\n",
        "SPECIAL_TOKENS = ['PAD', 'SOS', 'EOS']\n",
        "SYMBOLS = ['(', ')', '+', '-', '*', '/']\n",
        "VOCAB = SPECIAL_TOKENS + SYMBOLS + IDENTIFIERS + ['JUNK'] #may use junk in autoregressive generation\n",
        "\n",
        "token_to_id = {tok: i for i, tok in enumerate(VOCAB)}\n",
        "id_to_token = {i: tok for tok, i in token_to_id.items()}\n",
        "VOCAB_SIZE = len(VOCAB)\n",
        "PAD_ID = token_to_id['PAD']\n",
        "EOS_ID = token_to_id['EOS']\n",
        "SOS_ID = token_to_id['SOS']\n",
        "\n",
        "MAX_DEPTH = 3\n",
        "MAX_LEN = 4*2**MAX_DEPTH -2 #enough to fit expressions at given depth (+ EOS)"
      ]
    },
    {
      "cell_type": "code",
      "execution_count": 3,
      "metadata": {
        "id": "YirUhTHlV0JU"
      },
      "outputs": [],
      "source": [
        "# -------------------- Expression Generation --------------------\n",
        "def generate_infix_expression(max_depth):\n",
        "    if max_depth == 0:\n",
        "        return random.choice(IDENTIFIERS)\n",
        "    elif random.random() < 0.5:\n",
        "        return generate_infix_expression(max_depth - 1)\n",
        "    else:\n",
        "        left = generate_infix_expression(max_depth - 1)\n",
        "        right = generate_infix_expression(max_depth - 1)\n",
        "        op = random.choice(OPERATORS)\n",
        "        return f'({left} {op} {right})'\n",
        "\n",
        "def tokenize(expr):\n",
        "    return [c for c in expr if c in token_to_id]\n",
        "\n",
        "def infix_to_postfix(tokens):\n",
        "    precedence = {'+': 1, '-': 1, '*': 2, '/': 2}\n",
        "    output, stack = [], []\n",
        "    for token in tokens:\n",
        "        if token in IDENTIFIERS:\n",
        "            output.append(token)\n",
        "        elif token in OPERATORS:\n",
        "            while stack and stack[-1] in OPERATORS and precedence[stack[-1]] >= precedence[token]:\n",
        "                output.append(stack.pop())\n",
        "            stack.append(token)\n",
        "        elif token == '(':\n",
        "            stack.append(token)\n",
        "        elif token == ')':\n",
        "            while stack and stack[-1] != '(':\n",
        "                output.append(stack.pop())\n",
        "            stack.pop()\n",
        "    while stack:\n",
        "        output.append(stack.pop())\n",
        "    return output\n",
        "\n",
        "def encode(tokens, max_len=MAX_LEN):\n",
        "    ids = [token_to_id[t] for t in tokens] + [EOS_ID]\n",
        "    return ids + [PAD_ID] * (max_len - len(ids))\n",
        "\n",
        "def decode_sequence(token_ids, id_to_token, pad_token='PAD', eos_token='EOS'):\n",
        "    \"\"\"\n",
        "    Converts a list of token IDs into a readable string by decoding tokens.\n",
        "    Stops at the first EOS token if present, and ignores PAD tokens.\n",
        "    \"\"\"\n",
        "    tokens = []\n",
        "    for token_id in token_ids:\n",
        "        token = id_to_token.get(token_id, '?')\n",
        "        if token == eos_token:\n",
        "            break\n",
        "        if token != pad_token:\n",
        "            tokens.append(token)\n",
        "    return ' '.join(tokens)\n",
        "\n",
        "def generate_dataset(n,max_depth=MAX_DEPTH):\n",
        "    X, Y = [], []\n",
        "    for _ in range(n):\n",
        "        expr = generate_infix_expression(MAX_DEPTH)\n",
        "        #expr = expr_gen.generate(max_depth=max_dthep)\n",
        "        infix = tokenize(expr)\n",
        "        postfix = infix_to_postfix(infix)\n",
        "        X.append(encode(infix))\n",
        "        Y.append(encode(postfix))\n",
        "    return np.array(X), np.array(Y)\n",
        "\n",
        "#you might use the shift function for teacher-forcing\n",
        "def shift_right(seqs):\n",
        "    shifted = np.zeros_like(seqs)\n",
        "    shifted[:, 1:] = seqs[:, :-1]\n",
        "    shifted[:, 0] = SOS_ID\n",
        "    return shifted"
      ]
    },
    {
      "cell_type": "markdown",
      "metadata": {
        "id": "XMqgLxbaURWd"
      },
      "source": [
        "Let us define a simple dataset, and inspect a few samples."
      ]
    },
    {
      "cell_type": "code",
      "execution_count": 4,
      "metadata": {
        "id": "MxEF2K-CW5Vq"
      },
      "outputs": [],
      "source": [
        "X_train, Y_train = generate_dataset(50000)\n",
        "decoder_input_train = shift_right(Y_train)\n",
        "\n",
        "# Dataset\n",
        "X_val, Y_val = generate_dataset(5000)\n",
        "decoder_input_val = shift_right(Y_val)"
      ]
    },
    {
      "cell_type": "code",
      "execution_count": 5,
      "metadata": {
        "colab": {
          "base_uri": "https://localhost:8080/"
        },
        "id": "Fj9mQ_yzSKrR",
        "outputId": "fffde680-7e2a-41a6-bec0-e71193450cdc"
      },
      "outputs": [
        {
          "name": "stdout",
          "output_type": "stream",
          "text": [
            "39980\n",
            "infix :  ( ( c * ( c - c ) ) * e )\n",
            "posfix notation:  c c c - * e *\n",
            "teacher forcing :  SOS c c c - * e *\n"
          ]
        }
      ],
      "source": [
        "i =  np.random.randint(50000)\n",
        "print(i)\n",
        "print(\"infix : \",decode_sequence(X_train[i],id_to_token))\n",
        "print(\"posfix notation: \",decode_sequence(Y_train[i],id_to_token))\n",
        "print(\"teacher forcing : \", decode_sequence(decoder_input_train[i],id_to_token))"
      ]
    },
    {
      "cell_type": "markdown",
      "metadata": {
        "id": "RBqzQ1qAV4bB"
      },
      "source": [
        "# Constraints\n",
        "* You may use any architecture (decoder-only, encoder-decoder, or other).\n",
        "\n",
        "* The maximum number of parameters is 2 million.\n",
        "\n",
        "* Beam search is not allowed.\n",
        "\n",
        "* You may adapt the formula generator to your needs, but preserve its core logic—especially the frequency distribution of formulas by depth, as it may significantly influence model performance.\n",
        "\n",
        "* You may train your model using a pre-generated fixed dataset (e.g., an array) or directly use an on-the-fly generator.\n",
        "\n",
        "\n",
        "Be sure to evalutate the generator: your model may only take as input the expression in infix format and return its translation to postifix.\n",
        "\n",
        "If you are usuing an encoder-decoder model, generation must be done autoregressively."
      ]
    },
    {
      "cell_type": "markdown",
      "metadata": {
        "id": "mpvOKAxDVhe7"
      },
      "source": [
        "# Evaluation\n",
        "\n",
        "We shall evaluate a generated item y_pred using \"prefix accuracy\", the lenght of\n",
        "the initial prefix of y_pred matching the ground true y_true. This will be divided by the maximum length of y_true and y_pred (up to EOS), so that a perfect match has score 1.\n",
        "\n",
        "* It's more informative than exact match (which is often 0)\n",
        "\n",
        "* It’s tighter than edit distance: focuses on generation flow\n",
        "\n",
        "* Captures where the model starts to make errors\n",
        "\n"
      ]
    },
    {
      "cell_type": "code",
      "execution_count": 6,
      "metadata": {
        "id": "tr7mHS_KShM9"
      },
      "outputs": [],
      "source": [
        "# -------------------- Evaluation Metric Function --------------------\n",
        "def prefix_accuracy_single(y_true, y_pred, id_to_token, eos_id=EOS_ID, verbose=False):\n",
        "    t_str = decode_sequence(y_true, id_to_token).split(' EOS')[0]\n",
        "    p_str = decode_sequence(y_pred, id_to_token).split(' EOS')[0]\n",
        "    t_tokens = t_str.strip().split()\n",
        "    p_tokens = p_str.strip().split()\n",
        "    max_len = max(len(t_tokens), len(p_tokens))\n",
        "\n",
        "    match_len = sum(x == y for x, y in zip(t_tokens, p_tokens))\n",
        "    score = match_len / max_len if max_len>0 else 0\n",
        "\n",
        "    if verbose:\n",
        "        print(\"TARGET :\", ' '.join(t_tokens))\n",
        "        print(\"PREDICT:\", ' '.join(p_tokens))\n",
        "        print(f\"PREFIX MATCH: {match_len}/{len(t_tokens)} → {score:.2f}\")\n",
        "\n",
        "    return score"
      ]
    },
    {
      "cell_type": "markdown",
      "metadata": {
        "id": "2P6CuyFx0GCW"
      },
      "source": [
        "# The model (Encoder-Decoder with LSTM)\n",
        "The core architecture chosen for the neural network is a sequence-to-sequence (Seq2Seq) model using an Encoder-Decoder structure with LSTM layers. A Seq2Seq model is ideal for this task, as it's designed to map an input sequence (infix expression) to an output sequence (postfix expression).\n",
        "\n",
        "Both the encoder and decoder use the same Embedding layer. This is efficient as the input and output vocabularies are very similar, reducing the total number of parameters and allowing the model to learn a single, richer representation for each token. We use an EMBEDDING_DIM of 128 and LSTM_UNITS of 256, providing sufficient capacity for this task without being excessively large. The total parameter count is ~794k, well within the 2 million limit. mask_zero=True in the embedding layer is essential, it ensures that the padding tokens (PAD_ID) are ignored during computation, allowing the model to handle variable-length sequences effectively.\n",
        "\n",
        "The model is compiled with the adam optimizer and sparse_categorical_crossentropy loss function, standard choices for multi-class classification (predicting the next token). We use weighted_metrics to ensure that the padding tokens are also ignored when calculating accuracy during training, providing a true measure of performance on the actual sequence data."
      ]
    },
    {
      "cell_type": "code",
      "execution_count": 7,
      "metadata": {
        "colab": {
          "base_uri": "https://localhost:8080/",
          "height": 513
        },
        "id": "IQCsM9p6TTRh",
        "outputId": "afdac4f3-cb4b-4e3b-a991-6fed5e2fb6ca"
      },
      "outputs": [
        {
          "data": {
            "text/html": [
              "<pre style=\"white-space:pre;overflow-x:auto;line-height:normal;font-family:Menlo,'DejaVu Sans Mono',consolas,'Courier New',monospace\"><span style=\"font-weight: bold\">Model: \"functional\"</span>\n",
              "</pre>\n"
            ],
            "text/plain": [
              "\u001b[1mModel: \"functional\"\u001b[0m\n"
            ]
          },
          "metadata": {},
          "output_type": "display_data"
        },
        {
          "data": {
            "text/html": [
              "<pre style=\"white-space:pre;overflow-x:auto;line-height:normal;font-family:Menlo,'DejaVu Sans Mono',consolas,'Courier New',monospace\">┏━━━━━━━━━━━━━━━━━━━━━┳━━━━━━━━━━━━━━━━━━━┳━━━━━━━━━━━━┳━━━━━━━━━━━━━━━━━━━┓\n",
              "┃<span style=\"font-weight: bold\"> Layer (type)        </span>┃<span style=\"font-weight: bold\"> Output Shape      </span>┃<span style=\"font-weight: bold\">    Param # </span>┃<span style=\"font-weight: bold\"> Connected to      </span>┃\n",
              "┡━━━━━━━━━━━━━━━━━━━━━╇━━━━━━━━━━━━━━━━━━━╇━━━━━━━━━━━━╇━━━━━━━━━━━━━━━━━━━┩\n",
              "│ decoder_input       │ (<span style=\"color: #00d7ff; text-decoration-color: #00d7ff\">None</span>, <span style=\"color: #00d7ff; text-decoration-color: #00d7ff\">None</span>)      │          <span style=\"color: #00af00; text-decoration-color: #00af00\">0</span> │ -                 │\n",
              "│ (<span style=\"color: #0087ff; text-decoration-color: #0087ff\">InputLayer</span>)        │                   │            │                   │\n",
              "├─────────────────────┼───────────────────┼────────────┼───────────────────┤\n",
              "│ encoder_input       │ (<span style=\"color: #00d7ff; text-decoration-color: #00d7ff\">None</span>, <span style=\"color: #00d7ff; text-decoration-color: #00d7ff\">None</span>)      │          <span style=\"color: #00af00; text-decoration-color: #00af00\">0</span> │ -                 │\n",
              "│ (<span style=\"color: #0087ff; text-decoration-color: #0087ff\">InputLayer</span>)        │                   │            │                   │\n",
              "├─────────────────────┼───────────────────┼────────────┼───────────────────┤\n",
              "│ shared_embedding    │ (<span style=\"color: #00d7ff; text-decoration-color: #00d7ff\">None</span>, <span style=\"color: #00d7ff; text-decoration-color: #00d7ff\">None</span>, <span style=\"color: #00af00; text-decoration-color: #00af00\">128</span>) │      <span style=\"color: #00af00; text-decoration-color: #00af00\">1,920</span> │ encoder_input[<span style=\"color: #00af00; text-decoration-color: #00af00\">0</span>]… │\n",
              "│ (<span style=\"color: #0087ff; text-decoration-color: #0087ff\">Embedding</span>)         │                   │            │ decoder_input[<span style=\"color: #00af00; text-decoration-color: #00af00\">0</span>]… │\n",
              "├─────────────────────┼───────────────────┼────────────┼───────────────────┤\n",
              "│ not_equal           │ (<span style=\"color: #00d7ff; text-decoration-color: #00d7ff\">None</span>, <span style=\"color: #00d7ff; text-decoration-color: #00d7ff\">None</span>)      │          <span style=\"color: #00af00; text-decoration-color: #00af00\">0</span> │ encoder_input[<span style=\"color: #00af00; text-decoration-color: #00af00\">0</span>]… │\n",
              "│ (<span style=\"color: #0087ff; text-decoration-color: #0087ff\">NotEqual</span>)          │                   │            │                   │\n",
              "├─────────────────────┼───────────────────┼────────────┼───────────────────┤\n",
              "│ encoder_lstm (<span style=\"color: #0087ff; text-decoration-color: #0087ff\">LSTM</span>) │ [(<span style=\"color: #00d7ff; text-decoration-color: #00d7ff\">None</span>, <span style=\"color: #00af00; text-decoration-color: #00af00\">256</span>),     │    <span style=\"color: #00af00; text-decoration-color: #00af00\">394,240</span> │ shared_embedding… │\n",
              "│                     │ (<span style=\"color: #00d7ff; text-decoration-color: #00d7ff\">None</span>, <span style=\"color: #00af00; text-decoration-color: #00af00\">256</span>),      │            │ not_equal[<span style=\"color: #00af00; text-decoration-color: #00af00\">0</span>][<span style=\"color: #00af00; text-decoration-color: #00af00\">0</span>]   │\n",
              "│                     │ (<span style=\"color: #00d7ff; text-decoration-color: #00d7ff\">None</span>, <span style=\"color: #00af00; text-decoration-color: #00af00\">256</span>)]      │            │                   │\n",
              "├─────────────────────┼───────────────────┼────────────┼───────────────────┤\n",
              "│ decoder_lstm (<span style=\"color: #0087ff; text-decoration-color: #0087ff\">LSTM</span>) │ [(<span style=\"color: #00d7ff; text-decoration-color: #00d7ff\">None</span>, <span style=\"color: #00d7ff; text-decoration-color: #00d7ff\">None</span>,     │    <span style=\"color: #00af00; text-decoration-color: #00af00\">394,240</span> │ shared_embedding… │\n",
              "│                     │ <span style=\"color: #00af00; text-decoration-color: #00af00\">256</span>), (<span style=\"color: #00d7ff; text-decoration-color: #00d7ff\">None</span>,      │            │ encoder_lstm[<span style=\"color: #00af00; text-decoration-color: #00af00\">0</span>][<span style=\"color: #00af00; text-decoration-color: #00af00\">…</span> │\n",
              "│                     │ <span style=\"color: #00af00; text-decoration-color: #00af00\">256</span>), (<span style=\"color: #00d7ff; text-decoration-color: #00d7ff\">None</span>,      │            │ encoder_lstm[<span style=\"color: #00af00; text-decoration-color: #00af00\">0</span>][<span style=\"color: #00af00; text-decoration-color: #00af00\">…</span> │\n",
              "│                     │ <span style=\"color: #00af00; text-decoration-color: #00af00\">256</span>)]             │            │                   │\n",
              "├─────────────────────┼───────────────────┼────────────┼───────────────────┤\n",
              "│ decoder_output      │ (<span style=\"color: #00d7ff; text-decoration-color: #00d7ff\">None</span>, <span style=\"color: #00d7ff; text-decoration-color: #00d7ff\">None</span>, <span style=\"color: #00af00; text-decoration-color: #00af00\">15</span>)  │      <span style=\"color: #00af00; text-decoration-color: #00af00\">3,855</span> │ decoder_lstm[<span style=\"color: #00af00; text-decoration-color: #00af00\">0</span>][<span style=\"color: #00af00; text-decoration-color: #00af00\">…</span> │\n",
              "│ (<span style=\"color: #0087ff; text-decoration-color: #0087ff\">Dense</span>)             │                   │            │                   │\n",
              "└─────────────────────┴───────────────────┴────────────┴───────────────────┘\n",
              "</pre>\n"
            ],
            "text/plain": [
              "┏━━━━━━━━━━━━━━━━━━━━━┳━━━━━━━━━━━━━━━━━━━┳━━━━━━━━━━━━┳━━━━━━━━━━━━━━━━━━━┓\n",
              "┃\u001b[1m \u001b[0m\u001b[1mLayer (type)       \u001b[0m\u001b[1m \u001b[0m┃\u001b[1m \u001b[0m\u001b[1mOutput Shape     \u001b[0m\u001b[1m \u001b[0m┃\u001b[1m \u001b[0m\u001b[1m   Param #\u001b[0m\u001b[1m \u001b[0m┃\u001b[1m \u001b[0m\u001b[1mConnected to     \u001b[0m\u001b[1m \u001b[0m┃\n",
              "┡━━━━━━━━━━━━━━━━━━━━━╇━━━━━━━━━━━━━━━━━━━╇━━━━━━━━━━━━╇━━━━━━━━━━━━━━━━━━━┩\n",
              "│ decoder_input       │ (\u001b[38;5;45mNone\u001b[0m, \u001b[38;5;45mNone\u001b[0m)      │          \u001b[38;5;34m0\u001b[0m │ -                 │\n",
              "│ (\u001b[38;5;33mInputLayer\u001b[0m)        │                   │            │                   │\n",
              "├─────────────────────┼───────────────────┼────────────┼───────────────────┤\n",
              "│ encoder_input       │ (\u001b[38;5;45mNone\u001b[0m, \u001b[38;5;45mNone\u001b[0m)      │          \u001b[38;5;34m0\u001b[0m │ -                 │\n",
              "│ (\u001b[38;5;33mInputLayer\u001b[0m)        │                   │            │                   │\n",
              "├─────────────────────┼───────────────────┼────────────┼───────────────────┤\n",
              "│ shared_embedding    │ (\u001b[38;5;45mNone\u001b[0m, \u001b[38;5;45mNone\u001b[0m, \u001b[38;5;34m128\u001b[0m) │      \u001b[38;5;34m1,920\u001b[0m │ encoder_input[\u001b[38;5;34m0\u001b[0m]… │\n",
              "│ (\u001b[38;5;33mEmbedding\u001b[0m)         │                   │            │ decoder_input[\u001b[38;5;34m0\u001b[0m]… │\n",
              "├─────────────────────┼───────────────────┼────────────┼───────────────────┤\n",
              "│ not_equal           │ (\u001b[38;5;45mNone\u001b[0m, \u001b[38;5;45mNone\u001b[0m)      │          \u001b[38;5;34m0\u001b[0m │ encoder_input[\u001b[38;5;34m0\u001b[0m]… │\n",
              "│ (\u001b[38;5;33mNotEqual\u001b[0m)          │                   │            │                   │\n",
              "├─────────────────────┼───────────────────┼────────────┼───────────────────┤\n",
              "│ encoder_lstm (\u001b[38;5;33mLSTM\u001b[0m) │ [(\u001b[38;5;45mNone\u001b[0m, \u001b[38;5;34m256\u001b[0m),     │    \u001b[38;5;34m394,240\u001b[0m │ shared_embedding… │\n",
              "│                     │ (\u001b[38;5;45mNone\u001b[0m, \u001b[38;5;34m256\u001b[0m),      │            │ not_equal[\u001b[38;5;34m0\u001b[0m][\u001b[38;5;34m0\u001b[0m]   │\n",
              "│                     │ (\u001b[38;5;45mNone\u001b[0m, \u001b[38;5;34m256\u001b[0m)]      │            │                   │\n",
              "├─────────────────────┼───────────────────┼────────────┼───────────────────┤\n",
              "│ decoder_lstm (\u001b[38;5;33mLSTM\u001b[0m) │ [(\u001b[38;5;45mNone\u001b[0m, \u001b[38;5;45mNone\u001b[0m,     │    \u001b[38;5;34m394,240\u001b[0m │ shared_embedding… │\n",
              "│                     │ \u001b[38;5;34m256\u001b[0m), (\u001b[38;5;45mNone\u001b[0m,      │            │ encoder_lstm[\u001b[38;5;34m0\u001b[0m][\u001b[38;5;34m…\u001b[0m │\n",
              "│                     │ \u001b[38;5;34m256\u001b[0m), (\u001b[38;5;45mNone\u001b[0m,      │            │ encoder_lstm[\u001b[38;5;34m0\u001b[0m][\u001b[38;5;34m…\u001b[0m │\n",
              "│                     │ \u001b[38;5;34m256\u001b[0m)]             │            │                   │\n",
              "├─────────────────────┼───────────────────┼────────────┼───────────────────┤\n",
              "│ decoder_output      │ (\u001b[38;5;45mNone\u001b[0m, \u001b[38;5;45mNone\u001b[0m, \u001b[38;5;34m15\u001b[0m)  │      \u001b[38;5;34m3,855\u001b[0m │ decoder_lstm[\u001b[38;5;34m0\u001b[0m][\u001b[38;5;34m…\u001b[0m │\n",
              "│ (\u001b[38;5;33mDense\u001b[0m)             │                   │            │                   │\n",
              "└─────────────────────┴───────────────────┴────────────┴───────────────────┘\n"
            ]
          },
          "metadata": {},
          "output_type": "display_data"
        },
        {
          "data": {
            "text/html": [
              "<pre style=\"white-space:pre;overflow-x:auto;line-height:normal;font-family:Menlo,'DejaVu Sans Mono',consolas,'Courier New',monospace\"><span style=\"font-weight: bold\"> Total params: </span><span style=\"color: #00af00; text-decoration-color: #00af00\">794,255</span> (3.03 MB)\n",
              "</pre>\n"
            ],
            "text/plain": [
              "\u001b[1m Total params: \u001b[0m\u001b[38;5;34m794,255\u001b[0m (3.03 MB)\n"
            ]
          },
          "metadata": {},
          "output_type": "display_data"
        },
        {
          "data": {
            "text/html": [
              "<pre style=\"white-space:pre;overflow-x:auto;line-height:normal;font-family:Menlo,'DejaVu Sans Mono',consolas,'Courier New',monospace\"><span style=\"font-weight: bold\"> Trainable params: </span><span style=\"color: #00af00; text-decoration-color: #00af00\">794,255</span> (3.03 MB)\n",
              "</pre>\n"
            ],
            "text/plain": [
              "\u001b[1m Trainable params: \u001b[0m\u001b[38;5;34m794,255\u001b[0m (3.03 MB)\n"
            ]
          },
          "metadata": {},
          "output_type": "display_data"
        },
        {
          "data": {
            "text/html": [
              "<pre style=\"white-space:pre;overflow-x:auto;line-height:normal;font-family:Menlo,'DejaVu Sans Mono',consolas,'Courier New',monospace\"><span style=\"font-weight: bold\"> Non-trainable params: </span><span style=\"color: #00af00; text-decoration-color: #00af00\">0</span> (0.00 B)\n",
              "</pre>\n"
            ],
            "text/plain": [
              "\u001b[1m Non-trainable params: \u001b[0m\u001b[38;5;34m0\u001b[0m (0.00 B)\n"
            ]
          },
          "metadata": {},
          "output_type": "display_data"
        }
      ],
      "source": [
        "# Model Hyperparameters\n",
        "EMBEDDING_DIM = 128\n",
        "LSTM_UNITS = 256\n",
        "\n",
        "# Define one embedding layer to be used by both encoder and decoder.\n",
        "embedding_layer = layers.Embedding(VOCAB_SIZE, EMBEDDING_DIM, mask_zero=True, name='shared_embedding')\n",
        "\n",
        "encoder_inputs = layers.Input(shape=(None,), name='encoder_input')\n",
        "encoder_embedding = embedding_layer(encoder_inputs)\n",
        "_, state_h, state_c = layers.LSTM(LSTM_UNITS, return_state=True, name='encoder_lstm')(encoder_embedding)\n",
        "encoder_states = [state_h, state_c]\n",
        "\n",
        "decoder_inputs = layers.Input(shape=(None,), name='decoder_input')\n",
        "decoder_embedding = embedding_layer(decoder_inputs)\n",
        "decoder_lstm = layers.LSTM(LSTM_UNITS, return_sequences=True, return_state=True, name='decoder_lstm')\n",
        "decoder_outputs, _, _ = decoder_lstm(decoder_embedding, initial_state=encoder_states)\n",
        "decoder_dense = layers.Dense(VOCAB_SIZE, activation='softmax', name='decoder_output')\n",
        "decoder_outputs = decoder_dense(decoder_outputs)\n",
        "\n",
        "model = models.Model([encoder_inputs, decoder_inputs], decoder_outputs)\n",
        "\n",
        "# We use weighted_metrics to ensure the sample_weight is applied to the accuracy metric.\n",
        "model.compile(optimizer='adam',\n",
        "              loss='sparse_categorical_crossentropy',\n",
        "              weighted_metrics=[tf.keras.metrics.SparseCategoricalAccuracy(name='masked_accuracy')])\n",
        "model.summary()"
      ]
    },
    {
      "cell_type": "markdown",
      "metadata": {
        "id": "JfngfHm665TI"
      },
      "source": [
        "# Loading Pre-trained Weights via gdown\n",
        "This cell correctly loads the pre-trained weights and replaces the need for training."
      ]
    },
    {
      "cell_type": "code",
      "execution_count": 13,
      "metadata": {
        "colab": {
          "base_uri": "https://localhost:8080/"
        },
        "id": "pBXZDdDcYpGt",
        "outputId": "f9248d48-f027-454d-b057-0d54282ae908"
      },
      "outputs": [
        {
          "name": "stdout",
          "output_type": "stream",
          "text": [
            "Downloading...\n",
            "From: https://drive.google.com/uc?id=13ze8l9qED-6pP8X7yj8DJ-SDQsPgu_Ad\n",
            "To: /content/infix_to_postfix.weights.h5\n",
            "100% 9.57M/9.57M [00:00<00:00, 20.5MB/s]\n",
            "\n",
            "Model weights loaded successfully\n"
          ]
        }
      ],
      "source": [
        "'''\n",
        "FILE_ID = '13ze8l9qED-6pP8X7yj8DJ-SDQsPgu_Ad'\n",
        "!gdown $FILE_ID\n",
        "\n",
        "try:\n",
        "    model.load_weights('infix_to_postfix.weights.h5')\n",
        "    print(\"\\nModel weights loaded successfully\")\n",
        "except Exception as e:\n",
        "    print(f\"\\nError loading weights: {e}\")\n",
        "'''"
      ]
    },
    {
      "cell_type": "markdown",
      "metadata": {
        "id": "wI9u2nMn7op7"
      },
      "source": [
        "# Model Training\n",
        "In the training, to handle padding, we create sample_weights. This is a matrix of the same shape as our target data, containing a 1.0 for every real token and a 0.0 for every PAD token. By passing this to model.fit(), we instruct Keras to only compute the loss and metrics for the non-padded parts of the sequences."
      ]
    },
    {
      "cell_type": "code",
      "execution_count": 9,
      "metadata": {
        "colab": {
          "base_uri": "https://localhost:8080/"
        },
        "id": "u97Ul1dhTWKs",
        "outputId": "533669f8-bc4f-4db6-a76b-2aa214743d7e"
      },
      "outputs": [
        {
          "name": "stdout",
          "output_type": "stream",
          "text": [
            "Epoch 1/15\n",
            "\u001b[1m391/391\u001b[0m \u001b[32m━━━━━━━━━━━━━━━━━━━━\u001b[0m\u001b[37m\u001b[0m \u001b[1m11s\u001b[0m 14ms/step - loss: 1.2452 - masked_accuracy: 0.4538 - val_loss: 0.1565 - val_masked_accuracy: 0.9449\n",
            "Epoch 2/15\n",
            "\u001b[1m391/391\u001b[0m \u001b[32m━━━━━━━━━━━━━━━━━━━━\u001b[0m\u001b[37m\u001b[0m \u001b[1m7s\u001b[0m 12ms/step - loss: 0.1103 - masked_accuracy: 0.9641 - val_loss: 0.0432 - val_masked_accuracy: 0.9888\n",
            "Epoch 3/15\n",
            "\u001b[1m391/391\u001b[0m \u001b[32m━━━━━━━━━━━━━━━━━━━━\u001b[0m\u001b[37m\u001b[0m \u001b[1m5s\u001b[0m 12ms/step - loss: 0.0317 - masked_accuracy: 0.9918 - val_loss: 0.0165 - val_masked_accuracy: 0.9962\n",
            "Epoch 4/15\n",
            "\u001b[1m391/391\u001b[0m \u001b[32m━━━━━━━━━━━━━━━━━━━━\u001b[0m\u001b[37m\u001b[0m \u001b[1m5s\u001b[0m 11ms/step - loss: 0.0156 - masked_accuracy: 0.9962 - val_loss: 0.0109 - val_masked_accuracy: 0.9975\n",
            "Epoch 5/15\n",
            "\u001b[1m391/391\u001b[0m \u001b[32m━━━━━━━━━━━━━━━━━━━━\u001b[0m\u001b[37m\u001b[0m \u001b[1m6s\u001b[0m 13ms/step - loss: 0.0088 - masked_accuracy: 0.9983 - val_loss: 0.0070 - val_masked_accuracy: 0.9985\n",
            "Epoch 6/15\n",
            "\u001b[1m391/391\u001b[0m \u001b[32m━━━━━━━━━━━━━━━━━━━━\u001b[0m\u001b[37m\u001b[0m \u001b[1m5s\u001b[0m 11ms/step - loss: 0.0050 - masked_accuracy: 0.9992 - val_loss: 0.0046 - val_masked_accuracy: 0.9990\n",
            "Epoch 7/15\n",
            "\u001b[1m391/391\u001b[0m \u001b[32m━━━━━━━━━━━━━━━━━━━━\u001b[0m\u001b[37m\u001b[0m \u001b[1m6s\u001b[0m 13ms/step - loss: 0.0042 - masked_accuracy: 0.9992 - val_loss: 0.0122 - val_masked_accuracy: 0.9957\n",
            "Epoch 8/15\n",
            "\u001b[1m391/391\u001b[0m \u001b[32m━━━━━━━━━━━━━━━━━━━━\u001b[0m\u001b[37m\u001b[0m \u001b[1m4s\u001b[0m 11ms/step - loss: 0.0053 - masked_accuracy: 0.9987 - val_loss: 0.0034 - val_masked_accuracy: 0.9993\n",
            "Epoch 9/15\n",
            "\u001b[1m391/391\u001b[0m \u001b[32m━━━━━━━━━━━━━━━━━━━━\u001b[0m\u001b[37m\u001b[0m \u001b[1m4s\u001b[0m 11ms/step - loss: 0.0033 - masked_accuracy: 0.9993 - val_loss: 0.0037 - val_masked_accuracy: 0.9991\n",
            "Epoch 10/15\n",
            "\u001b[1m391/391\u001b[0m \u001b[32m━━━━━━━━━━━━━━━━━━━━\u001b[0m\u001b[37m\u001b[0m \u001b[1m5s\u001b[0m 12ms/step - loss: 0.0019 - masked_accuracy: 0.9997 - val_loss: 0.0033 - val_masked_accuracy: 0.9992\n",
            "Epoch 11/15\n",
            "\u001b[1m391/391\u001b[0m \u001b[32m━━━━━━━━━━━━━━━━━━━━\u001b[0m\u001b[37m\u001b[0m \u001b[1m5s\u001b[0m 11ms/step - loss: 0.0031 - masked_accuracy: 0.9991 - val_loss: 0.0020 - val_masked_accuracy: 0.9996\n",
            "Epoch 12/15\n",
            "\u001b[1m391/391\u001b[0m \u001b[32m━━━━━━━━━━━━━━━━━━━━\u001b[0m\u001b[37m\u001b[0m \u001b[1m6s\u001b[0m 13ms/step - loss: 0.0014 - masked_accuracy: 0.9997 - val_loss: 0.0176 - val_masked_accuracy: 0.9933\n",
            "Epoch 13/15\n",
            "\u001b[1m391/391\u001b[0m \u001b[32m━━━━━━━━━━━━━━━━━━━━\u001b[0m\u001b[37m\u001b[0m \u001b[1m10s\u001b[0m 12ms/step - loss: 0.0042 - masked_accuracy: 0.9987 - val_loss: 7.1313e-04 - val_masked_accuracy: 0.9999\n",
            "Epoch 14/15\n",
            "\u001b[1m391/391\u001b[0m \u001b[32m━━━━━━━━━━━━━━━━━━━━\u001b[0m\u001b[37m\u001b[0m \u001b[1m5s\u001b[0m 12ms/step - loss: 2.5057e-04 - masked_accuracy: 1.0000 - val_loss: 6.3313e-04 - val_masked_accuracy: 0.9999\n",
            "Epoch 15/15\n",
            "\u001b[1m391/391\u001b[0m \u001b[32m━━━━━━━━━━━━━━━━━━━━\u001b[0m\u001b[37m\u001b[0m \u001b[1m5s\u001b[0m 12ms/step - loss: 2.9797e-04 - masked_accuracy: 1.0000 - val_loss: 3.3136e-04 - val_masked_accuracy: 0.9999\n"
          ]
        }
      ],
      "source": [
        "EPOCHS = 15\n",
        "BATCH_SIZE = 128\n",
        "\n",
        "# Create sample weights to ignore padding in metrics, weight is 1.0 for non-pad tokens, 0.0 for pad tokens.\n",
        "sample_weights = np.not_equal(Y_train, PAD_ID).astype(float)\n",
        "val_sample_weights = np.not_equal(Y_val, PAD_ID).astype(float)\n",
        "\n",
        "history = model.fit([X_train, decoder_input_train], Y_train,\n",
        "                    sample_weight=sample_weights,\n",
        "                    batch_size=BATCH_SIZE,\n",
        "                    epochs=EPOCHS,\n",
        "                    validation_data=([X_val, decoder_input_val], Y_val, val_sample_weights),\n",
        "                    verbose=1)"
      ]
    },
    {
      "cell_type": "code",
      "execution_count": 10,
      "metadata": {
        "colab": {
          "base_uri": "https://localhost:8080/",
          "height": 487
        },
        "id": "rjH1ZLbKTZGG",
        "outputId": "c87c3bfa-650b-48d8-ff5c-223574e2fa36"
      },
      "outputs": [
        {
          "data": {
            "image/png": "[encoded data removed]",
            "text/plain": [
              "<Figure size 1200x500 with 2 Axes>"
            ]
          },
          "metadata": {},
          "output_type": "display_data"
        }
      ],
      "source": [
        "def plot_history(history):\n",
        "    plt.figure(figsize=(12, 5))\n",
        "    # Plot loss\n",
        "    plt.subplot(1, 2, 1)\n",
        "    plt.plot(history.history['loss'], label='Train Loss')\n",
        "    plt.plot(history.history['val_loss'], label='Validation Loss')\n",
        "    plt.title('Model Loss')\n",
        "    plt.ylabel('Loss')\n",
        "    plt.xlabel('Epoch')\n",
        "    plt.legend()\n",
        "    # Plot accuracy\n",
        "    plt.subplot(1, 2, 2)\n",
        "    plt.plot(history.history['masked_accuracy'], label='Train Accuracy')\n",
        "    plt.plot(history.history['val_masked_accuracy'], label='Validation Accuracy')\n",
        "    plt.title('Model Accuracy (Masked)')\n",
        "    plt.ylabel('Accuracy')\n",
        "    plt.xlabel('Epoch')\n",
        "    plt.legend()\n",
        "    plt.show()\n",
        "\n",
        "plot_history(history)"
      ]
    },
    {
      "cell_type": "markdown",
      "metadata": {
        "id": "kTmy0GJ-9HTo"
      },
      "source": [
        "The Model Loss plot shows both curves decrease rapidly and converge to near-zero values. The validation loss closely follows the training loss, which indicates that the model is not overfitting and is generalizing well to unseen data.\n",
        "\n",
        "The Model Accuracy (Masked) plot shows both training and validation accuracy quickly approach 1.0, confirming that the model has effectively mastered the translation task on the dataset."
      ]
    },
    {
      "cell_type": "markdown",
      "metadata": {
        "id": "5p6N4yTK_JUq"
      },
      "source": [
        "# Autoregressive Inference Setup\n",
        "\n",
        "During training, we used teacher forcing, but for inference, the target sequence is unknown. Therefore, we must generate it autoregressively one token at a time. This requires restructuring the model into two separate parts for inference: encoder_model takes an input sequence and outputs only the final context vector (LSTM states), decoder_model takes the context vector from the encoder and the single previously predicted token to generate the probabilities for the next token, along with the updated states.\n",
        "\n",
        "The autoregressive_decode function implements this logic:\n",
        "\n",
        "\n",
        "\n",
        "1.   The input infix expression is encoded to get an initial context vector.\n",
        "2.   The generation starts with the SOS token.\n",
        "3.   In a loop, the decoder predicts the next token based on the current input token and context.\n",
        "4.   The most likely token (via argmax, a greedy search) is chosen.\n",
        "5.   This new token is appended to the output and becomes the input for the next step, and the context vector is updated.\n",
        "6.   The process repeats until an EOS token is generated or the maximum length is reached."
      ]
    },
    {
      "cell_type": "code",
      "execution_count": 11,
      "metadata": {
        "id": "UQCZSmezTcZl"
      },
      "outputs": [],
      "source": [
        "# Inference Encoder Model\n",
        "encoder_model = models.Model(encoder_inputs, encoder_states)\n",
        "\n",
        "# Inference Decoder Model\n",
        "decoder_state_input_h = layers.Input(shape=(LSTM_UNITS,))\n",
        "decoder_state_input_c = layers.Input(shape=(LSTM_UNITS,))\n",
        "decoder_states_inputs = [decoder_state_input_h, decoder_state_input_c]\n",
        "\n",
        "# We need the embedding layer's output, we are using the same layer instance from the trained model\n",
        "inf_decoder_embedding = embedding_layer(decoder_inputs)\n",
        "\n",
        "# We use the states from the inputs to the model\n",
        "inf_decoder_outputs, inf_state_h, inf_state_c = decoder_lstm(\n",
        "    inf_decoder_embedding, initial_state=decoder_states_inputs)\n",
        "inf_decoder_states = [inf_state_h, inf_state_c]\n",
        "\n",
        "inf_decoder_outputs = decoder_dense(inf_decoder_outputs)\n",
        "\n",
        "decoder_model = models.Model(\n",
        "    [decoder_inputs] + decoder_states_inputs,\n",
        "    [inf_decoder_outputs] + inf_decoder_states)\n",
        "\n",
        "def autoregressive_decode(encoder_input_sequence):\n",
        "    encoder_input_sequence = np.array([encoder_input_sequence])\n",
        "    states_value = encoder_model.predict(encoder_input_sequence, verbose=0)\n",
        "\n",
        "    target_seq = np.array([[SOS_ID]])\n",
        "\n",
        "    decoded_ids = []\n",
        "    for _ in range(MAX_LEN):\n",
        "        output_tokens, h, c = decoder_model.predict(\n",
        "            [target_seq] + states_value, verbose=0)\n",
        "\n",
        "        predicted_token_id = np.argmax(output_tokens[0, -1, :])\n",
        "\n",
        "        if predicted_token_id == EOS_ID:\n",
        "            break\n",
        "\n",
        "        decoded_ids.append(predicted_token_id)\n",
        "\n",
        "        target_seq = np.array([[predicted_token_id]])\n",
        "        states_value = [h, c]\n",
        "\n",
        "    return decoded_ids + [EOS_ID] + [PAD_ID] * (MAX_LEN - len(decoded_ids) - 1)"
      ]
    },
    {
      "cell_type": "markdown",
      "metadata": {
        "id": "mQic1jIdWY1D"
      },
      "source": [
        "# Final Evaluation\n",
        "For the exam, evaluate you model on a test set of 20 expressions. Repeat this evaluation 10 times, and return the mean and std for this rounds."
      ]
    },
    {
      "cell_type": "code",
      "execution_count": 12,
      "metadata": {
        "colab": {
          "base_uri": "https://localhost:8080/"
        },
        "id": "68zMJqaoTfmX",
        "outputId": "2baa78c1-fa4f-4fde-91d4-226ae93256e0"
      },
      "outputs": [
        {
          "name": "stdout",
          "output_type": "stream",
          "text": [
            "Final evaluation...\n",
            "Round 1\n",
            "average prefix accuracy: 1.0000\n",
            "Round 2\n",
            "average prefix accuracy: 1.0000\n",
            "Round 3\n",
            "average prefix accuracy: 1.0000\n",
            "Round 4\n",
            "average prefix accuracy: 1.0000\n",
            "Round 5\n",
            "average prefix accuracy: 1.0000\n",
            "Round 6\n",
            "average prefix accuracy: 1.0000\n",
            "Round 7\n",
            "average prefix accuracy: 1.0000\n",
            "Round 8\n",
            "average prefix accuracy: 1.0000\n",
            "Round 9\n",
            "average prefix accuracy: 1.0000\n",
            "Round 10\n",
            "average prefix accuracy: 1.0000\n",
            "\n",
            "\n",
            "Final Average Prefix Accuracy: 1.0000\n",
            "Standard Deviation over rounds: 0.0000\n"
          ]
        }
      ],
      "source": [
        "def test(no=20, rounds=10):\n",
        "  rscores = []\n",
        "  for i in range(rounds):\n",
        "    print(\"Round\",i+1)\n",
        "    X_test, Y_test = generate_dataset(no)\n",
        "    scores = []\n",
        "    for j in range(no):\n",
        "      encoder_input = X_test[j]\n",
        "      generated = autoregressive_decode(encoder_input)\n",
        "      scores.append(prefix_accuracy_single(Y_test[j], generated, id_to_token))\n",
        "\n",
        "    mean_score = np.mean(scores)\n",
        "    print(f\"average prefix accuracy: {mean_score:.4f}\")\n",
        "    rscores.append(mean_score)\n",
        "\n",
        "  return np.mean(rscores),np.std(rscores)\n",
        "\n",
        "print(\"Final evaluation...\")\n",
        "res, std = test(no=20, rounds=10)\n",
        "print(\"\\n\")\n",
        "print(f\"Final Average Prefix Accuracy: {res:.4f}\")\n",
        "print(f\"Standard Deviation over rounds: {std:.4f}\")"
      ]
    },
    {
      "cell_type": "markdown",
      "metadata": {
        "id": "8r5I6alRPqEt"
      },
      "source": [
        "# Conclusion\n",
        "The final evaluation over 10 test rounds shows a perfect prefix accuracy of 1.0000 with zero standard deviation, confirming complete generalization within the problem constraints. While limited to fully parenthesized expressions with fixed depth and vocabulary, the results demonstrate that a simple sequence-to-sequence model can deterministically solve a rule-based symbolic task when trained on sufficiently rich data.\n",
        "\n",
        "## Other attempts\n",
        "The first architecture adopted was this, a standard Encoder-Decoder model with LSTM layers. After the first run, a high accuracy score of 98.7% was immediately achieved.\n",
        "To further improve performance and mitigate potential overfitting a dropout layer was introduced as a regularization technique. However, this modification did not lead to a significant improvement indicating that the model did not suffer from generalization issues.\n",
        "Subsequently, another simple strategy was explored, simply increasing the size of the training dataset. The dataset was gradually expanded from 10,000 to 50,000 examples until a perfect score was achieved."
      ]
    }
  ],
  "metadata": {
    "accelerator": "GPU",
    "colab": {
      "gpuType": "T4",
      "provenance": []
    },
    "kernelspec": {
      "display_name": "Python 3",
      "name": "python3"
    },
    "language_info": {
      "name": "python"
    }
  },
  "nbformat": 4,
  "nbformat_minor": 0
}
